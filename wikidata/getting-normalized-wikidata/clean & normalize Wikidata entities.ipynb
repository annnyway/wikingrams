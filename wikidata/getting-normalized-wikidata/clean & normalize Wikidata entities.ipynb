{
 "cells": [
  {
   "cell_type": "markdown",
   "metadata": {},
   "source": [
    "# Обработка сущностей из Викиданных и создание словарей"
   ]
  },
  {
   "cell_type": "code",
   "execution_count": 3,
   "metadata": {
    "collapsed": true
   },
   "outputs": [],
   "source": [
    "import re\n",
    "from pymystem3 import Mystem\n",
    "from string import punctuation\n",
    "\n",
    "punct = punctuation+'«»—…“”*–'\n",
    "morph = Mystem()"
   ]
  },
  {
   "cell_type": "code",
   "execution_count": 4,
   "metadata": {
    "collapsed": true
   },
   "outputs": [],
   "source": [
    "def read_tsv(file):\n",
    "    with open(file, \"r\") as f:\n",
    "        f = f.readlines()\n",
    "    data = []\n",
    "    for line in f:\n",
    "        line = line.strip('\\n')\n",
    "        q, entity, aliases = line.split('\\t')\n",
    "        data.append([q, entity, aliases])\n",
    "    return data"
   ]
  },
  {
   "cell_type": "markdown",
   "metadata": {},
   "source": [
    "Читаем tsv-файл, в котором собраны сущности из русскоязычной версии Викиданных, их уникальные идентификаторы Q и другие возможные наименования. "
   ]
  },
  {
   "cell_type": "code",
   "execution_count": 5,
   "metadata": {
    "collapsed": false,
    "scrolled": false
   },
   "outputs": [
    {
     "name": "stdout",
     "output_type": "stream",
     "text": [
      "CPU times: user 18.3 s, sys: 10.8 s, total: 29.1 s\n",
      "Wall time: 32.6 s\n"
     ]
    }
   ],
   "source": [
    "%%time\n",
    "data = read_tsv(\"/Users/anyway/Desktop/wikidata/all-entities-bigfile.tsv\")"
   ]
  },
  {
   "cell_type": "code",
   "execution_count": 4,
   "metadata": {
    "collapsed": false
   },
   "outputs": [
    {
     "data": {
      "text/plain": [
       "5837666"
      ]
     },
     "execution_count": 4,
     "metadata": {},
     "output_type": "execute_result"
    }
   ],
   "source": [
    "len(data)"
   ]
  },
  {
   "cell_type": "code",
   "execution_count": 5,
   "metadata": {
    "collapsed": false
   },
   "outputs": [
    {
     "data": {
      "text/plain": [
       "['Q11349', 'туманность Орёл', 'M 16|NGC 6611']"
      ]
     },
     "execution_count": 5,
     "metadata": {},
     "output_type": "execute_result"
    }
   ],
   "source": [
    "data[1226]"
   ]
  },
  {
   "cell_type": "code",
   "execution_count": 6,
   "metadata": {
    "collapsed": false
   },
   "outputs": [
    {
     "name": "stdout",
     "output_type": "stream",
     "text": [
      "CPU times: user 17.7 s, sys: 1.32 s, total: 19 s\n",
      "Wall time: 19.7 s\n"
     ]
    }
   ],
   "source": [
    "%%time\n",
    "#чистим Викиданные\n",
    "def clean_wikidata(data):\n",
    "    russian = \"[А-Яа-я]+\"\n",
    "    prefixes = (\"Категория:\", \"Шаблон:\", \"Приложение:\", \"ВЭ /\", \"БЭАН /\", \n",
    "                \"ЭСБЕ /\", \"РБС /\", \"БЭЮ /\", \"ЭЛ /\", \"МЭСБЕ /\", \"ЕЭБЕ /\",\n",
    "                \"ТСД /\", \"ТСД2 /\", \"ПБЭ /\", \"БСЭ1 /\", \"НЭС /\", \"ББСРП /\", \n",
    "                \"РСКД /\", \"ТСД3 /\") \n",
    "    data = [i for i in data if len(i[1]) > 2 \n",
    "            and re.search(russian, i[1]) \n",
    "            and not i[1].startswith(prefixes)]\n",
    "    for indx, line in enumerate(data):\n",
    "        aliases = line[2].split('|')\n",
    "        data[indx][2] = \" | \".join([i for i in aliases if re.search(russian, i)])\n",
    "    with open('/Users/anyway/Desktop/wikidata/clean-russian-wikidata.tsv', 'w') as f:\n",
    "        for i in data:\n",
    "            f.write(\"\\t\".join(i) + '\\n')\n",
    "    return data\n",
    "\n",
    "clean_data = clean_wikidata(data)    \n",
    "len(clean_data)"
   ]
  },
  {
   "cell_type": "code",
   "execution_count": 1,
   "metadata": {
    "collapsed": false,
    "scrolled": false
   },
   "outputs": [
    {
     "ename": "NameError",
     "evalue": "name 'clean_data' is not defined",
     "output_type": "error",
     "traceback": [
      "\u001b[0;31m---------------------------------------------------------------------------\u001b[0m",
      "\u001b[0;31mNameError\u001b[0m                                 Traceback (most recent call last)",
      "\u001b[0;32m<ipython-input-1-cdc93138ce55>\u001b[0m in \u001b[0;36m<module>\u001b[0;34m()\u001b[0m\n\u001b[0;32m----> 1\u001b[0;31m \u001b[0mprint\u001b[0m\u001b[0;34m(\u001b[0m\u001b[0mlen\u001b[0m\u001b[0;34m(\u001b[0m\u001b[0mclean_data\u001b[0m\u001b[0;34m)\u001b[0m\u001b[0;34m)\u001b[0m\u001b[0;34m\u001b[0m\u001b[0;34m\u001b[0m\u001b[0m\n\u001b[0m\u001b[1;32m      2\u001b[0m \u001b[0mclean_data\u001b[0m\u001b[0;34m[\u001b[0m\u001b[0;34m:\u001b[0m\u001b[0;36m100\u001b[0m\u001b[0;34m]\u001b[0m\u001b[0;34m\u001b[0m\u001b[0;34m\u001b[0m\u001b[0m\n",
      "\u001b[0;31mNameError\u001b[0m: name 'clean_data' is not defined"
     ]
    }
   ],
   "source": [
    "print(len(clean_data))\n",
    "clean_data[:100]"
   ]
  },
  {
   "cell_type": "code",
   "execution_count": 7,
   "metadata": {
    "collapsed": false
   },
   "outputs": [],
   "source": [
    "def delete_stress(data):\n",
    "    for i, line in enumerate(data):\n",
    "        data[i][1] = line[1].replace(chr(769), '')\n",
    "        data[i][2] = line[2].replace(chr(769), '')\n",
    "    return data\n",
    "\n",
    "clean_data = delete_stress(clean_data)"
   ]
  },
  {
   "cell_type": "code",
   "execution_count": 8,
   "metadata": {
    "collapsed": false
   },
   "outputs": [
    {
     "name": "stdout",
     "output_type": "stream",
     "text": [
      "CPU times: user 5min 32s, sys: 1min 50s, total: 7min 23s\n",
      "Wall time: 22min\n"
     ]
    }
   ],
   "source": [
    "%%time\n",
    "\n",
    "#лемматизируем Викиданные и почистим от лишней пунктуации\n",
    "#добавить lower()!!!\n",
    "def normalize(data):\n",
    "    norm_data = []\n",
    "    w = open(\"/Users/anyway/Desktop/wikidata/norm-wikidata.tsv\", \"w\", encoding=\"UTF-8\")\n",
    "    for line in data:\n",
    "        entity = ''.join(morph.lemmatize(line[1])).strip()\n",
    "        entity = ' '.join([word.strip(punct) for word in entity.split() if word])\n",
    "        aliases = line[2].lower()\n",
    "        if aliases != '':\n",
    "            if ' | ' in aliases:\n",
    "                aliases = [''.join(morph.lemmatize(alias)).strip() for alias in aliases.split(\" | \")]\n",
    "                aliases = [' '.join([word.strip(punct) for word in alias.split() if word]) \n",
    "                           for alias in aliases]\n",
    "                norm_data.append([line[0], [entity] + aliases])\n",
    "                w.write(line[0] + ' | ' + ' | '.join([words for words in [entity] + aliases]) + '\\n')\n",
    "            else:\n",
    "                aliases = ''.join(morph.lemmatize(aliases)).strip()\n",
    "                aliases = ' '.join([word.strip(punct) for word in aliases.split() if word])\n",
    "                norm_data.append([line[0], [entity] + [aliases]])\n",
    "                w.write(line[0] + ' | ' + ' | '.join(words for words in [entity] + [aliases]) + '\\n')\n",
    "        else:\n",
    "            norm_data.append([line[0], entity])\n",
    "            w.write(line[0] + ' | ' + entity + '\\n')\n",
    "    w.close()\n",
    "    return norm_data\n",
    "\n",
    "norm_data = normalize(clean_data)"
   ]
  },
  {
   "cell_type": "markdown",
   "metadata": {},
   "source": [
    "Данная структура списка списков удобна для создания словарей. "
   ]
  },
  {
   "cell_type": "code",
   "execution_count": 68,
   "metadata": {
    "collapsed": false,
    "scrolled": false
   },
   "outputs": [
    {
     "data": {
      "text/plain": [
       "[['Q5257', 'сатавахан'],\n",
       " ['Q5259', '1926 год'],\n",
       " ['Q5275', 'астрономический часы'],\n",
       " ['Q5279', 'нахродт-виблингверде'],\n",
       " ['Q5285', 'тарлак'],\n",
       " ['Q5300',\n",
       "  ['центральный процессор',\n",
       "   'цп',\n",
       "   'центральный процессорный устройство',\n",
       "   'цпу']],\n",
       " ['Q5317', ['спейс нидло', 'космический игла']],\n",
       " ['Q5321', ['резистор', 'сопротивление']],\n",
       " ['Q5322', 'электрический конденсатор'],\n",
       " ['Q5329', ['децибел', 'дб']],\n",
       " ['Q5335', 'харм вирсма'],\n",
       " ['Q5351', 'гильом IX трубадур'],\n",
       " ['Q5363', 'мария вентадорнский'],\n",
       " ['Q5380', 'робер де борона'],\n",
       " ['Q5381', '1218 год'],\n",
       " ['Q5383', ['дэвид боуи', 'дэвид роберт джонс']],\n",
       " ['Q5386',\n",
       "  ['автоспорт',\n",
       "   'автомобильный спорт',\n",
       "   'автогонки',\n",
       "   'автомобильный гонка',\n",
       "   'гонки']],\n",
       " ['Q5389', 'олимпийский игра'],\n",
       " ['Q5414', 'немецкий дог'],\n",
       " ['Q5417', '1231 год'],\n",
       " ['Q5449', ['йошкар-ола', 'царевококшайск', 'краснококшайск']],\n",
       " ['Q5453', 'искусство волшебство'],\n",
       " ['Q5454', 'изабелла теоточить альбрицци'],\n",
       " ['Q5482', '1247 год'],\n",
       " ['Q5500', '1254 год'],\n",
       " ['Q5502', '1256 год'],\n",
       " ['Q5506', '1258 год'],\n",
       " ['Q5507', '1259 год'],\n",
       " ['Q5527', '1274 год'],\n",
       " ['Q5529', '1275 год'],\n",
       " ['Q5533', '1278 год'],\n",
       " ['Q5552', '1290 год'],\n",
       " ['Q5563', '1298 год'],\n",
       " ['Q5571', 'андреа дель сарто'],\n",
       " ['Q5580', ['альбрехт дюрер', 'дюрер альбрехт']],\n",
       " ['Q5586', 'кацусика хокусать'],\n",
       " ['Q5587', 'марло хорст'],\n",
       " ['Q5594', 'антонелло да мессина'],\n",
       " ['Q5595', ['куршский коса', 'куршский коса калининград']],\n",
       " ['Q5622', 'неман'],\n",
       " ['Q5624', '1305 год'],\n",
       " ['Q5630', 'фульхерия шартрский'],\n",
       " ['Q5632', 'мешед'],\n",
       " ['Q5659', 'конон де бетюн'],\n",
       " ['Q5664', ['фра беато анджелико', 'гвидо ди пьетро', 'джованни да фьезол']],\n",
       " ['Q5670', 'абу нувас'],\n",
       " ['Q5676', 'мацуо бас'],\n",
       " ['Q5693', 'южный саво'],\n",
       " ['Q5707', 'бьеловар'],\n",
       " ['Q5710',\n",
       "  ['башкортостан',\n",
       "   'башкирия',\n",
       "   'республика башкортостан',\n",
       "   'республика башкирия',\n",
       "   'рб']]]"
      ]
     },
     "execution_count": 68,
     "metadata": {},
     "output_type": "execute_result"
    }
   ],
   "source": [
    "norm_data[500:550]"
   ]
  },
  {
   "cell_type": "code",
   "execution_count": null,
   "metadata": {
    "collapsed": true
   },
   "outputs": [],
   "source": []
  }
 ],
 "metadata": {
  "kernelspec": {
   "display_name": "Python 3",
   "language": "python",
   "name": "python3"
  },
  "language_info": {
   "codemirror_mode": {
    "name": "ipython",
    "version": 3
   },
   "file_extension": ".py",
   "mimetype": "text/x-python",
   "name": "python",
   "nbconvert_exporter": "python",
   "pygments_lexer": "ipython3",
   "version": "3.6.8"
  }
 },
 "nbformat": 4,
 "nbformat_minor": 2
}
