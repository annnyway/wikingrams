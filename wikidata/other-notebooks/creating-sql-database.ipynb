{
 "cells": [
  {
   "cell_type": "markdown",
   "metadata": {},
   "source": [
    "# Create database for unigrams (later for bigrams)"
   ]
  },
  {
   "cell_type": "code",
   "execution_count": 58,
   "metadata": {},
   "outputs": [],
   "source": [
    "import pandas as pd\n",
    "import sqlite3\n",
    "import os"
   ]
  },
  {
   "cell_type": "code",
   "execution_count": 66,
   "metadata": {},
   "outputs": [],
   "source": [
    "os.chdir(\"/Users/nikolaevaanna/Downloads/unigram_result_dates\")\n",
    "paths = [i for i in os.listdir(\".\") if i.endswith(\".tsv\")]"
   ]
  },
  {
   "cell_type": "code",
   "execution_count": 67,
   "metadata": {},
   "outputs": [
    {
     "data": {
      "text/plain": [
       "['unigram-result-dates_j.tsv',\n",
       " 'unigram-result-dates_k.tsv',\n",
       " 'unigram-result-dates_i.tsv',\n",
       " 'unigram-result-dates_h.tsv',\n",
       " 'unigram-result-dates_l.tsv',\n",
       " 'unigram-result-dates_m.tsv',\n",
       " 'unigram-result-dates_z.tsv',\n",
       " 'unigram-result-dates_x.tsv',\n",
       " 'unigram-result-dates_o.tsv',\n",
       " 'unigram-result-dates_n.tsv',\n",
       " 'unigram-result-dates_t.tsv',\n",
       " 'unigram-result-dates_c.tsv',\n",
       " 'unigram-result-dates_b.tsv',\n",
       " 'unigram-result-dates_u.tsv',\n",
       " 'unigram-result-dates_a.tsv',\n",
       " 'unigram-result-dates_v.tsv',\n",
       " 'unigram-result-dates_e.tsv',\n",
       " 'unigram-result-dates_r.tsv',\n",
       " 'unigram-result-dates_s.tsv',\n",
       " 'unigram-result-dates_d.tsv',\n",
       " 'unigram-result-dates_f.tsv',\n",
       " 'unigram-result-dates_p.tsv',\n",
       " 'unigram-result-dates_g.tsv']"
      ]
     },
     "execution_count": 67,
     "metadata": {},
     "output_type": "execute_result"
    }
   ],
   "source": [
    "paths"
   ]
  },
  {
   "cell_type": "code",
   "execution_count": 71,
   "metadata": {},
   "outputs": [],
   "source": [
    "conn = sqlite3.connect(\"wikidata.db\")\n",
    "cursor = conn.cursor()"
   ]
  },
  {
   "cell_type": "code",
   "execution_count": 72,
   "metadata": {},
   "outputs": [
    {
     "data": {
      "text/plain": [
       "<sqlite3.Cursor at 0x114bf66c0>"
      ]
     },
     "execution_count": 72,
     "metadata": {},
     "output_type": "execute_result"
    }
   ],
   "source": [
    "cursor.execute(\"\"\"CREATE TABLE ngrams\n",
    "                  (ngram text, \n",
    "                  start_letter text,\n",
    "                  Q_number text, \n",
    "                  wiki_entity text, \n",
    "                  property_code text,\n",
    "                  property_value text,\n",
    "                  object text,\n",
    "                  organization text,\n",
    "                  just_date text,\n",
    "                  start_time text,\n",
    "                  end_time text,\n",
    "                  time_point text,\n",
    "                  growth_speed real,\n",
    "                  google_year_1 integer,\n",
    "                  google_year_2 integer)\n",
    "               \"\"\")"
   ]
  },
  {
   "cell_type": "code",
   "execution_count": 73,
   "metadata": {},
   "outputs": [],
   "source": [
    "conn.commit()"
   ]
  },
  {
   "cell_type": "code",
   "execution_count": 74,
   "metadata": {},
   "outputs": [],
   "source": [
    "def update_wikidata_database(path):\n",
    "    \n",
    "    dataframe = pd.read_csv(path, sep=\"\\t\") \n",
    "    \n",
    "    for i in dataframe.index:\n",
    "        years = dataframe.loc[i, \"Year or Period\"]\n",
    "        if years.count(\",\") == 1:\n",
    "            years = years.strip(\"[]\").split(\", \")\n",
    "            dataframe.loc[i, \"year1\"] = int(years[0])\n",
    "            dataframe.loc[i, \"year2\"] = int(years[1])\n",
    "        else:\n",
    "            dataframe.loc[i, \"year1\"] = int(years)\n",
    "            \n",
    "    start_letters = [i[0] for i in dataframe.iloc[:, 1]]\n",
    "    dataframe.insert(2, 'start_letter', start_letters)\n",
    "    \n",
    "    df_list = dataframe.values.tolist()\n",
    "    new_df_list = []\n",
    "    for line in df_list:\n",
    "        new_line = tuple(line[1:])\n",
    "        new_df_list.append(new_line)\n",
    "        \n",
    "    cursor.executemany(\"INSERT INTO ngrams VALUES (?,?,?,?,?,?,?,?,?,?,?,?,?,?,?)\", new_df_list)\n",
    "    conn.commit()\n",
    "    \n",
    "    return \"Ngrams from \" + path + \" added into wikidata.db\""
   ]
  },
  {
   "cell_type": "code",
   "execution_count": 75,
   "metadata": {},
   "outputs": [
    {
     "name": "stdout",
     "output_type": "stream",
     "text": [
      "Ngrams from unigram-result-dates_j.tsv added into wikidata.db\n",
      "Ngrams from unigram-result-dates_k.tsv added into wikidata.db\n",
      "Ngrams from unigram-result-dates_i.tsv added into wikidata.db\n",
      "Ngrams from unigram-result-dates_h.tsv added into wikidata.db\n",
      "Ngrams from unigram-result-dates_l.tsv added into wikidata.db\n",
      "Ngrams from unigram-result-dates_m.tsv added into wikidata.db\n",
      "Ngrams from unigram-result-dates_z.tsv added into wikidata.db\n",
      "Ngrams from unigram-result-dates_x.tsv added into wikidata.db\n",
      "Ngrams from unigram-result-dates_o.tsv added into wikidata.db\n",
      "Ngrams from unigram-result-dates_n.tsv added into wikidata.db\n",
      "Ngrams from unigram-result-dates_t.tsv added into wikidata.db\n",
      "Ngrams from unigram-result-dates_c.tsv added into wikidata.db\n",
      "Ngrams from unigram-result-dates_b.tsv added into wikidata.db\n",
      "Ngrams from unigram-result-dates_u.tsv added into wikidata.db\n",
      "Ngrams from unigram-result-dates_a.tsv added into wikidata.db\n",
      "Ngrams from unigram-result-dates_v.tsv added into wikidata.db\n",
      "Ngrams from unigram-result-dates_e.tsv added into wikidata.db\n",
      "Ngrams from unigram-result-dates_r.tsv added into wikidata.db\n",
      "Ngrams from unigram-result-dates_s.tsv added into wikidata.db\n",
      "Ngrams from unigram-result-dates_d.tsv added into wikidata.db\n",
      "Ngrams from unigram-result-dates_f.tsv added into wikidata.db\n",
      "Ngrams from unigram-result-dates_p.tsv added into wikidata.db\n",
      "Ngrams from unigram-result-dates_g.tsv added into wikidata.db\n"
     ]
    }
   ],
   "source": [
    "for i in paths:\n",
    "    res = update_wikidata_database(i)\n",
    "    print(res)"
   ]
  },
  {
   "cell_type": "code",
   "execution_count": null,
   "metadata": {},
   "outputs": [],
   "source": [
    "# than I also added index on start_letter column"
   ]
  }
 ],
 "metadata": {
  "kernelspec": {
   "display_name": "Python 3",
   "language": "python",
   "name": "python3"
  },
  "language_info": {
   "codemirror_mode": {
    "name": "ipython",
    "version": 3
   },
   "file_extension": ".py",
   "mimetype": "text/x-python",
   "name": "python",
   "nbconvert_exporter": "python",
   "pygments_lexer": "ipython3",
   "version": "3.7.3"
  }
 },
 "nbformat": 4,
 "nbformat_minor": 2
}
